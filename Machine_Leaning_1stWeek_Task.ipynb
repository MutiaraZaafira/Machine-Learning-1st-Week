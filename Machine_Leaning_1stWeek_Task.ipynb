{
  "nbformat": 4,
  "nbformat_minor": 0,
  "metadata": {
    "colab": {
      "name": "Machine Leaning - 1stWeek - Task",
      "provenance": [],
      "authorship_tag": "ABX9TyM6aLgPv3aPvOlGLGZispVG",
      "include_colab_link": true
    },
    "kernelspec": {
      "name": "python3",
      "display_name": "Python 3"
    },
    "language_info": {
      "name": "python"
    },
    "accelerator": "GPU"
  },
  "cells": [
    {
      "cell_type": "markdown",
      "metadata": {
        "id": "view-in-github",
        "colab_type": "text"
      },
      "source": [
        "<a href=\"https://colab.research.google.com/github/MutiaraZaafira/Machine-Learning-1st-Week/blob/main/Machine_Leaning_1stWeek_Task.ipynb\" target=\"_parent\"><img src=\"https://colab.research.google.com/assets/colab-badge.svg\" alt=\"Open In Colab\"/></a>"
      ]
    },
    {
      "cell_type": "code",
      "metadata": {
        "colab": {
          "base_uri": "https://localhost:8080/"
        },
        "id": "AZy2IP4gDogs",
        "outputId": "0742c034-9124-405d-dc45-a446937417d5"
      },
      "source": [
        "!pip install git+https://github.com/ML-Challenge/learntools.git"
      ],
      "execution_count": 35,
      "outputs": [
        {
          "output_type": "stream",
          "name": "stdout",
          "text": [
            "Collecting git+https://github.com/ML-Challenge/learntools.git\n",
            "  Cloning https://github.com/ML-Challenge/learntools.git to /tmp/pip-req-build-vh4hwvqk\n",
            "  Running command git clone -q https://github.com/ML-Challenge/learntools.git /tmp/pip-req-build-vh4hwvqk\n",
            "Building wheels for collected packages: learntools\n",
            "  Building wheel for learntools (setup.py) ... \u001b[?25l\u001b[?25hdone\n",
            "  Created wheel for learntools: filename=learntools-0.3.4-py3-none-any.whl size=207310 sha256=41d4baf8269bb5809c4f3e62d7d2b3e600e988c4d1a7677644129b951eea9ea3\n",
            "  Stored in directory: /tmp/pip-ephem-wheel-cache-jmj3gcur/wheels/5e/42/53/aa3198486cfc460e19152f9f799b8d0f549cb88f492acb6033\n",
            "Successfully built learntools\n",
            "Installing collected packages: learntools\n",
            "Successfully installed learntools-0.3.4\n"
          ]
        }
      ]
    },
    {
      "cell_type": "markdown",
      "metadata": {
        "id": "l1cqk3rZTNFh"
      },
      "source": [
        ""
      ]
    },
    {
      "cell_type": "markdown",
      "metadata": {
        "id": "OeA1gbrESDPI"
      },
      "source": [
        "MUTIARA ZAAFIRA ITONSASPUTRI \n",
        "(1103184228)\n",
        "TK-42-G6"
      ]
    },
    {
      "cell_type": "code",
      "metadata": {
        "colab": {
          "base_uri": "https://localhost:8080/"
        },
        "id": "4xLUvRd2EZXG",
        "outputId": "65ca462a-94ec-48f6-df46-099b58c8809e"
      },
      "source": [
        "# Set up code checking\n",
        "from learntools.core import binder\n",
        "binder.bind(globals())\n",
        "from learntools.machine_learning.ex2 import *\n",
        "print(\"Setup Complete\")"
      ],
      "execution_count": 36,
      "outputs": [
        {
          "output_type": "stream",
          "name": "stdout",
          "text": [
            "Setup Complete\n"
          ]
        }
      ]
    },
    {
      "cell_type": "code",
      "metadata": {
        "id": "a0z0y5t3ElBt"
      },
      "source": [
        "import pandas as pd\n",
        "\n",
        "# Path of the file to read\n",
        "iowa_file_path = '/content/train.csv'\n",
        "\n",
        "# Fill in the line below to read the file into a variable home_data\n",
        "home_data = pd.read_csv(iowa_file_path)"
      ],
      "execution_count": 19,
      "outputs": []
    },
    {
      "cell_type": "code",
      "metadata": {
        "id": "3yW4rc8bE9f0"
      },
      "source": [
        "# What is the average lot size (rounded to nearest integer)?\n",
        "avg_lot_size = 10517\n",
        "\n",
        "# As of today, how old is the newest home (current year - the date in which it was built)\n",
        "newest_home_age = 11"
      ],
      "execution_count": 9,
      "outputs": []
    },
    {
      "cell_type": "code",
      "metadata": {
        "colab": {
          "base_uri": "https://localhost:8080/"
        },
        "id": "ek9RT4q3FOX0",
        "outputId": "f3c87236-a4f7-4ca6-aa52-c133471ad028"
      },
      "source": [
        "# print the list of columns in the dataset to find the name of the prediction target\n",
        "home_data.columns\n"
      ],
      "execution_count": 4,
      "outputs": [
        {
          "output_type": "execute_result",
          "data": {
            "text/plain": [
              "Index(['Suburb', 'Address', 'Rooms', 'Type', 'Price', 'Method', 'SellerG',\n",
              "       'Date', 'Distance', 'Postcode', 'Bedroom2', 'Bathroom', 'Car',\n",
              "       'Landsize', 'BuildingArea', 'YearBuilt', 'CouncilArea', 'Lattitude',\n",
              "       'Longtitude', 'Regionname', 'Propertycount'],\n",
              "      dtype='object')"
            ]
          },
          "metadata": {},
          "execution_count": 4
        }
      ]
    },
    {
      "cell_type": "code",
      "metadata": {
        "id": "ZZOwIZZYP9xZ"
      },
      "source": [
        "y = home_data.SalePrice"
      ],
      "execution_count": 24,
      "outputs": []
    },
    {
      "cell_type": "code",
      "metadata": {
        "id": "Q3eea-C6FRyZ"
      },
      "source": [
        "# Create the list of features below\n",
        "feature_names = [\"LotArea\", \"YearBuilt\", \"1stFlrSF\", \"2ndFlrSF\",\"FullBath\", \"BedroomAbvGr\", \"TotRmsAbvGrd\"]\n",
        "\n",
        "# Select data corresponding to features in feature_names\n",
        "X = home_data[feature_names]"
      ],
      "execution_count": 20,
      "outputs": []
    },
    {
      "cell_type": "code",
      "metadata": {
        "colab": {
          "base_uri": "https://localhost:8080/",
          "height": 206
        },
        "id": "yuGx9rNEIel1",
        "outputId": "e35809c9-f786-4044-bc05-05818bfa0999"
      },
      "source": [
        "# Review data\n",
        "X = home_data[feature_names]\n",
        "#print(_)\n",
        "\n",
        "# print the top few lines\n",
        "X.head()\n",
        "#print(_)"
      ],
      "execution_count": 21,
      "outputs": [
        {
          "output_type": "execute_result",
          "data": {
            "text/html": [
              "<div>\n",
              "<style scoped>\n",
              "    .dataframe tbody tr th:only-of-type {\n",
              "        vertical-align: middle;\n",
              "    }\n",
              "\n",
              "    .dataframe tbody tr th {\n",
              "        vertical-align: top;\n",
              "    }\n",
              "\n",
              "    .dataframe thead th {\n",
              "        text-align: right;\n",
              "    }\n",
              "</style>\n",
              "<table border=\"1\" class=\"dataframe\">\n",
              "  <thead>\n",
              "    <tr style=\"text-align: right;\">\n",
              "      <th></th>\n",
              "      <th>LotArea</th>\n",
              "      <th>YearBuilt</th>\n",
              "      <th>1stFlrSF</th>\n",
              "      <th>2ndFlrSF</th>\n",
              "      <th>FullBath</th>\n",
              "      <th>BedroomAbvGr</th>\n",
              "      <th>TotRmsAbvGrd</th>\n",
              "    </tr>\n",
              "  </thead>\n",
              "  <tbody>\n",
              "    <tr>\n",
              "      <th>0</th>\n",
              "      <td>8450</td>\n",
              "      <td>2003</td>\n",
              "      <td>856</td>\n",
              "      <td>854</td>\n",
              "      <td>2</td>\n",
              "      <td>3</td>\n",
              "      <td>8</td>\n",
              "    </tr>\n",
              "    <tr>\n",
              "      <th>1</th>\n",
              "      <td>9600</td>\n",
              "      <td>1976</td>\n",
              "      <td>1262</td>\n",
              "      <td>0</td>\n",
              "      <td>2</td>\n",
              "      <td>3</td>\n",
              "      <td>6</td>\n",
              "    </tr>\n",
              "    <tr>\n",
              "      <th>2</th>\n",
              "      <td>11250</td>\n",
              "      <td>2001</td>\n",
              "      <td>920</td>\n",
              "      <td>866</td>\n",
              "      <td>2</td>\n",
              "      <td>3</td>\n",
              "      <td>6</td>\n",
              "    </tr>\n",
              "    <tr>\n",
              "      <th>3</th>\n",
              "      <td>9550</td>\n",
              "      <td>1915</td>\n",
              "      <td>961</td>\n",
              "      <td>756</td>\n",
              "      <td>1</td>\n",
              "      <td>3</td>\n",
              "      <td>7</td>\n",
              "    </tr>\n",
              "    <tr>\n",
              "      <th>4</th>\n",
              "      <td>14260</td>\n",
              "      <td>2000</td>\n",
              "      <td>1145</td>\n",
              "      <td>1053</td>\n",
              "      <td>2</td>\n",
              "      <td>4</td>\n",
              "      <td>9</td>\n",
              "    </tr>\n",
              "  </tbody>\n",
              "</table>\n",
              "</div>"
            ],
            "text/plain": [
              "   LotArea  YearBuilt  1stFlrSF  2ndFlrSF  FullBath  BedroomAbvGr  TotRmsAbvGrd\n",
              "0     8450       2003       856       854         2             3             8\n",
              "1     9600       1976      1262         0         2             3             6\n",
              "2    11250       2001       920       866         2             3             6\n",
              "3     9550       1915       961       756         1             3             7\n",
              "4    14260       2000      1145      1053         2             4             9"
            ]
          },
          "metadata": {},
          "execution_count": 21
        }
      ]
    },
    {
      "cell_type": "code",
      "metadata": {
        "colab": {
          "base_uri": "https://localhost:8080/"
        },
        "id": "wba1GiyPIqzn",
        "outputId": "d605e152-dfe8-4201-8729-f627a6440339"
      },
      "source": [
        "# from _ import _\n",
        "from sklearn.tree import DecisionTreeRegressor\n",
        "#specify the model. \n",
        "#For model reproducibility, set a numeric value for random_state when specifying the model\n",
        "iowa_model = DecisionTreeRegressor(random_state=1)\n",
        "\n",
        "# Fit the model\n",
        "iowa_model.fit(X, y)"
      ],
      "execution_count": 25,
      "outputs": [
        {
          "output_type": "execute_result",
          "data": {
            "text/plain": [
              "DecisionTreeRegressor(ccp_alpha=0.0, criterion='mse', max_depth=None,\n",
              "                      max_features=None, max_leaf_nodes=None,\n",
              "                      min_impurity_decrease=0.0, min_impurity_split=None,\n",
              "                      min_samples_leaf=1, min_samples_split=2,\n",
              "                      min_weight_fraction_leaf=0.0, presort='deprecated',\n",
              "                      random_state=1, splitter='best')"
            ]
          },
          "metadata": {},
          "execution_count": 25
        }
      ]
    },
    {
      "cell_type": "code",
      "metadata": {
        "colab": {
          "base_uri": "https://localhost:8080/"
        },
        "id": "MPtp3LVdItn2",
        "outputId": "7c59d660-ccfd-4e0d-a042-c279f3bd2464"
      },
      "source": [
        "predictions = iowa_model.predict(X)\n",
        "print(predictions)"
      ],
      "execution_count": 26,
      "outputs": [
        {
          "output_type": "stream",
          "name": "stdout",
          "text": [
            "[208500. 181500. 223500. ... 266500. 142125. 147500.]\n"
          ]
        }
      ]
    },
    {
      "cell_type": "code",
      "metadata": {
        "id": "InHVHxRXI6pu"
      },
      "source": [
        "# Import the train_test_split function and uncomment\n",
        "# from _ import _\n",
        "from sklearn.model_selection import train_test_split\n",
        "\n",
        "# fill in and uncomment\n",
        "# train_X, val_X, train_y, val_y = ____\n",
        "train_X, val_X, train_y, val_y = train_test_split(X, y, random_state=1)"
      ],
      "execution_count": 27,
      "outputs": []
    },
    {
      "cell_type": "code",
      "metadata": {
        "colab": {
          "base_uri": "https://localhost:8080/"
        },
        "id": "YPrNH4YjJA1V",
        "outputId": "5fe52c08-b09b-4c38-84f4-4258c45f296d"
      },
      "source": [
        "# Code you have previously used to load data\n",
        "import pandas as pd\n",
        "from sklearn.tree import DecisionTreeRegressor\n",
        "\n",
        "# Path of the file to read\n",
        "iowa_file_path = '/content/train.csv'\n",
        "home_data = pd.read_csv(iowa_file_path)\n",
        "y = home_data.SalePrice\n",
        "feature_columns = ['LotArea', 'YearBuilt', '1stFlrSF', '2ndFlrSF', 'FullBath', 'BedroomAbvGr', 'TotRmsAbvGrd']\n",
        "X = home_data[feature_columns]\n",
        "\n",
        "# Specify Model\n",
        "iowa_model = DecisionTreeRegressor()\n",
        "# Fit Model\n",
        "iowa_model.fit(X, y)\n",
        "\n",
        "print(\"First in-sample predictions:\", iowa_model.predict(X.head()))\n",
        "print(\"Actual target values for those homes:\", y.head().tolist())\n",
        "\n",
        "# Set up code checking\n",
        "from learntools.core import binder\n",
        "binder.bind(globals())\n",
        "from learntools.machine_learning.ex4 import *\n",
        "print(\"Setup Complete\")"
      ],
      "execution_count": 37,
      "outputs": [
        {
          "output_type": "stream",
          "name": "stderr",
          "text": [
            "WARNING:root:Ignoring repeated attempt to bind to globals\n"
          ]
        },
        {
          "output_type": "stream",
          "name": "stdout",
          "text": [
            "First in-sample predictions: [208500. 181500. 223500. 140000. 250000.]\n",
            "Actual target values for those homes: [208500, 181500, 223500, 140000, 250000]\n",
            "Setup Complete\n"
          ]
        }
      ]
    },
    {
      "cell_type": "code",
      "metadata": {
        "colab": {
          "base_uri": "https://localhost:8080/",
          "height": 46
        },
        "id": "aPUTGu6JJLgh",
        "outputId": "b565b6ce-7107-432f-96e5-d2c5fd56b0d5"
      },
      "source": [
        "# Import the train_test_split function and uncomment\n",
        "# from _ import _\n",
        "from sklearn.model_selection import train_test_split\n",
        "\n",
        "# fill in and uncomment\n",
        "# train_X, val_X, train_y, val_y = ____\n",
        "train_X, val_X, train_y, val_y = train_test_split(X, y, random_state=1)"
      ],
      "execution_count": 38,
      "outputs": [
        {
          "output_type": "display_data",
          "data": {
            "application/javascript": [
              "parent.postMessage({\"jupyterEvent\": \"custom.exercise_interaction\", \"data\": {\"outcomeType\": 1, \"valueTowardsCompletion\": 0.25, \"interactionType\": 1, \"questionType\": 2, \"questionId\": \"1_SplitData\", \"learnToolsVersion\": \"0.3.4\", \"failureMessage\": \"\", \"exceptionClass\": \"\", \"trace\": \"\"}}, \"*\")"
            ],
            "text/plain": [
              "<IPython.core.display.Javascript object>"
            ]
          },
          "metadata": {}
        },
        {
          "output_type": "display_data",
          "data": {
            "text/markdown": "<span style=\"color:#33cc33\">Correct</span>",
            "text/plain": [
              "Correct"
            ]
          },
          "metadata": {}
        }
      ]
    },
    {
      "cell_type": "code",
      "metadata": {
        "colab": {
          "base_uri": "https://localhost:8080/"
        },
        "id": "LMVe4tG5JMzK",
        "outputId": "01099e25-fbcf-4d99-9d94-9459b685c77e"
      },
      "source": [
        "# You imported DecisionTreeRegressor in your last exercise\n",
        "# and that code has been copied to the setup code above. So, no need to\n",
        "# import it again\n",
        "\n",
        "# Specify the model\n",
        "iowa_model = DecisionTreeRegressor(random_state=1)\n",
        "\n",
        "# Fit iowa_model with the training data.\n",
        "iowa_model.fit(train_X, train_y)"
      ],
      "execution_count": 40,
      "outputs": [
        {
          "output_type": "execute_result",
          "data": {
            "text/plain": [
              "DecisionTreeRegressor(ccp_alpha=0.0, criterion='mse', max_depth=None,\n",
              "                      max_features=None, max_leaf_nodes=None,\n",
              "                      min_impurity_decrease=0.0, min_impurity_split=None,\n",
              "                      min_samples_leaf=1, min_samples_split=2,\n",
              "                      min_weight_fraction_leaf=0.0, presort='deprecated',\n",
              "                      random_state=1, splitter='best')"
            ]
          },
          "metadata": {},
          "execution_count": 40
        }
      ]
    },
    {
      "cell_type": "code",
      "metadata": {
        "colab": {
          "base_uri": "https://localhost:8080/",
          "height": 46
        },
        "id": "H2l8xpGAJODW",
        "outputId": "f64978fa-134b-43ae-82de-a298093c5430"
      },
      "source": [
        "# Predict with all validation observations\n",
        "val_predictions = iowa_model.predict(val_X)\n",
        "\n",
        "# Check your answer\n",
        "step_3.check()"
      ],
      "execution_count": 41,
      "outputs": [
        {
          "output_type": "display_data",
          "data": {
            "application/javascript": [
              "parent.postMessage({\"jupyterEvent\": \"custom.exercise_interaction\", \"data\": {\"outcomeType\": 1, \"valueTowardsCompletion\": 0.25, \"interactionType\": 1, \"questionType\": 2, \"questionId\": \"3_ValPreds\", \"learnToolsVersion\": \"0.3.4\", \"failureMessage\": \"\", \"exceptionClass\": \"\", \"trace\": \"\"}}, \"*\")"
            ],
            "text/plain": [
              "<IPython.core.display.Javascript object>"
            ]
          },
          "metadata": {}
        },
        {
          "output_type": "display_data",
          "data": {
            "text/markdown": "<span style=\"color:#33cc33\">Correct</span>",
            "text/plain": [
              "Correct"
            ]
          },
          "metadata": {}
        }
      ]
    },
    {
      "cell_type": "code",
      "metadata": {
        "colab": {
          "base_uri": "https://localhost:8080/"
        },
        "id": "JqKW4z76JPVI",
        "outputId": "dea505c6-bde3-47c1-bdb1-f6fe70528881"
      },
      "source": [
        "# print the top few validation predictions\n",
        "print(iowa_model.predict(val_X))\n",
        "# print the top few actual prices from validation data\n",
        "print(mean_absolute_error(val_y, val_predictions))"
      ],
      "execution_count": 44,
      "outputs": [
        {
          "output_type": "stream",
          "name": "stdout",
          "text": [
            "[186500. 184000. 130000.  92000. 164500. 220000. 335000. 144152. 215000.\n",
            " 262000. 180000. 121000. 175900. 210000. 248900. 131000. 100000. 149350.\n",
            " 235000. 156000. 149900. 265979. 193500. 377500. 100000. 162900. 145000.\n",
            " 180000. 582933. 146000. 140000.  91500. 112500. 113000. 145000. 312500.\n",
            " 110000. 132000. 305000. 128000. 162900. 115000. 110000. 124000. 215200.\n",
            " 180000.  79000. 192000. 282922. 235000. 132000. 325000.  80000. 237000.\n",
            " 208300. 100000. 120500. 162000. 153000. 187000. 185750. 335000. 129000.\n",
            " 124900. 185750. 133700. 127000. 230000. 146800. 157900. 136000. 153575.\n",
            " 335000. 177500. 143000. 202500. 168500. 105000. 305900. 192000. 190000.\n",
            " 140200. 134900. 128950. 213000. 108959. 149500. 190000. 175900. 160000.\n",
            " 250580. 157000. 120500. 147500. 118000. 117000. 110000. 130000. 148500.\n",
            " 148000. 190000. 130500. 127000. 120500. 135000. 168000. 176432. 128000.\n",
            " 147000. 260000. 132000. 129500. 171000. 181134. 227875. 189000. 282922.\n",
            "  94750. 185000. 194000. 159000. 279500. 290000. 135000. 299800. 165000.\n",
            " 394432. 135750. 155000. 212000. 310000. 134800.  84000. 122900.  80000.\n",
            " 191000. 755000. 147000. 248000. 106500. 145000. 359100. 145000. 192500.\n",
            " 149000. 252000. 109000. 215000. 220000. 138500. 185000. 185000. 120500.\n",
            " 181000. 173000. 335000.  67000. 149350.  67000. 156000. 119000. 110500.\n",
            " 184000. 147000. 156000. 171000. 177000. 159000. 125000. 105000. 284000.\n",
            " 167500. 200000. 312500. 213000. 135960. 205000. 237000. 107000. 163000.\n",
            " 132500. 155835. 165500. 138500. 257000. 160000. 394617. 281213. 161000.\n",
            " 127500.  88000. 139000.  89500. 132500. 134800. 335000. 248900. 155000.\n",
            " 147000.  86000. 185000. 200000. 180500. 215200. 319900. 105000. 194000.\n",
            " 340000. 256000. 280000. 186500. 105500. 155000. 133500. 255500. 253000.\n",
            " 130000.  92900. 256000. 100000. 755000. 138500. 168500. 112000. 127000.\n",
            " 109008. 197000. 245500. 171900. 162000. 128000. 173000. 132000. 118000.\n",
            " 235128. 118964. 260000. 116000. 185000. 315750. 236500. 140000. 151500.\n",
            " 184000.  84000. 130000. 154000. 205000. 110000. 151500. 123000. 129500.\n",
            " 173900. 181500. 165500. 106500. 184900.  84500. 377500. 118500. 180000.\n",
            " 190000. 208500. 181000.  98000. 157000. 151500.  84000. 139000. 100000.\n",
            " 161750. 165600. 116000. 118500. 187000. 147000. 112000. 132000. 230000.\n",
            " 128000. 147000. 125000. 145000. 151000. 284000. 221000. 140200. 129000.\n",
            " 290000. 105000.  96500. 310000. 140000. 132000. 203000. 221000. 215200.\n",
            " 214000. 139000.  91500. 148000. 155000. 115000. 180000. 165500. 223000.\n",
            " 139000. 179900. 150000. 185000. 163000. 176000. 127000. 227000. 146000.\n",
            "  99900. 275000. 180500. 180000. 157000. 186500. 179900. 137500. 219500.\n",
            " 155000. 345000. 197000. 205000. 159000. 159434. 156000. 196000. 252678.\n",
            " 255500. 213000. 150900. 143750. 139000. 260000. 189000. 213250. 207500.\n",
            "  80000. 221000. 109500. 155000. 165000. 149350. 204900. 105900. 155000.\n",
            " 176000. 395000. 149700. 147000. 143900. 226700. 176000. 116000. 325300.\n",
            " 133750. 188500. 148500. 284000. 201800.]\n",
            "29652.931506849316\n"
          ]
        }
      ]
    },
    {
      "cell_type": "code",
      "metadata": {
        "colab": {
          "base_uri": "https://localhost:8080/",
          "height": 46
        },
        "id": "mAkLG1kWJQ8c",
        "outputId": "1173c409-6568-4a84-f4be-8d6b609a9d6c"
      },
      "source": [
        "from sklearn.metrics import mean_absolute_error\n",
        "val_mae = mean_absolute_error(val_y, val_predictions)\n",
        "\n",
        "# uncomment following line to see the validation_mae\n",
        "#print(val_mae)"
      ],
      "execution_count": 45,
      "outputs": [
        {
          "output_type": "display_data",
          "data": {
            "application/javascript": [
              "parent.postMessage({\"jupyterEvent\": \"custom.exercise_interaction\", \"data\": {\"outcomeType\": 1, \"valueTowardsCompletion\": 0.25, \"interactionType\": 1, \"questionType\": 1, \"questionId\": \"4_MAE\", \"learnToolsVersion\": \"0.3.4\", \"failureMessage\": \"\", \"exceptionClass\": \"\", \"trace\": \"\"}}, \"*\")"
            ],
            "text/plain": [
              "<IPython.core.display.Javascript object>"
            ]
          },
          "metadata": {}
        },
        {
          "output_type": "display_data",
          "data": {
            "text/markdown": "<span style=\"color:#33cc33\">Correct</span>",
            "text/plain": [
              "Correct"
            ]
          },
          "metadata": {}
        }
      ]
    },
    {
      "cell_type": "code",
      "metadata": {
        "id": "Ezefn8cyJSB5"
      },
      "source": [
        "from sklearn.metrics import mean_absolute_error\n",
        "val_mae = mean_absolute_error(val_y, val_predictions)\n",
        "\n",
        "# uncomment following line to see the validation_mae\n",
        "#print(val_mae)"
      ],
      "execution_count": 46,
      "outputs": []
    },
    {
      "cell_type": "code",
      "metadata": {
        "colab": {
          "base_uri": "https://localhost:8080/"
        },
        "id": "Sbw7JhjfRjmc",
        "outputId": "a61c0356-9dc2-4a01-ab68-0392eadcb1c0"
      },
      "source": [
        "# Code you have previously used to load data\n",
        "import pandas as pd\n",
        "from sklearn.metrics import mean_absolute_error\n",
        "from sklearn.model_selection import train_test_split\n",
        "from sklearn.tree import DecisionTreeRegressor\n",
        "\n",
        "\n",
        "# Path of the file to read\n",
        "iowa_file_path = '/content/train.csv'\n",
        "\n",
        "home_data = pd.read_csv(iowa_file_path)\n",
        "# Create target object and call it y\n",
        "y = home_data.SalePrice\n",
        "# Create X\n",
        "features = ['LotArea', 'YearBuilt', '1stFlrSF', '2ndFlrSF', 'FullBath', 'BedroomAbvGr', 'TotRmsAbvGrd']\n",
        "X = home_data[features]\n",
        "\n",
        "# Split into validation and training data\n",
        "train_X, val_X, train_y, val_y = train_test_split(X, y, random_state=1)\n",
        "\n",
        "# Specify Model\n",
        "iowa_model = DecisionTreeRegressor(random_state=1)\n",
        "# Fit Model\n",
        "iowa_model.fit(train_X, train_y)\n",
        "\n",
        "# Make validation predictions and calculate mean absolute error\n",
        "val_predictions = iowa_model.predict(val_X)\n",
        "val_mae = mean_absolute_error(val_predictions, val_y)\n",
        "print(\"Validation MAE: {:,.0f}\".format(val_mae))\n",
        "\n",
        "# Set up code checking\n",
        "from learntools.core import binder\n",
        "binder.bind(globals())\n",
        "from learntools.machine_learning.ex5 import *\n",
        "print(\"\\nSetup complete\")"
      ],
      "execution_count": 48,
      "outputs": [
        {
          "output_type": "stream",
          "name": "stderr",
          "text": [
            "WARNING:root:Ignoring repeated attempt to bind to globals\n"
          ]
        },
        {
          "output_type": "stream",
          "name": "stdout",
          "text": [
            "Validation MAE: 29,653\n",
            "\n",
            "Setup complete\n"
          ]
        }
      ]
    },
    {
      "cell_type": "code",
      "metadata": {
        "id": "suBodKJORugZ"
      },
      "source": [
        "def get_mae(max_leaf_nodes, train_X, val_X, train_y, val_y):\n",
        "    model = DecisionTreeRegressor(max_leaf_nodes=max_leaf_nodes, random_state=0)\n",
        "    model.fit(train_X, train_y)\n",
        "    preds_val = model.predict(val_X)\n",
        "    mae = mean_absolute_error(val_y, preds_val)\n",
        "    return(mae)"
      ],
      "execution_count": 49,
      "outputs": []
    },
    {
      "cell_type": "code",
      "metadata": {
        "id": "W7vMFZCJRwF7"
      },
      "source": [
        "candidate_max_leaf_nodes = [5, 25, 50, 100, 250, 500]\n",
        "# Write loop to find the ideal tree size from candidate_max_leaf_nodes\n",
        "scores = {leaf_size: get_mae(leaf_size, train_X, val_X, train_y, val_y) for leaf_size in candidate_max_leaf_nodes}\n",
        "\n",
        "# Store the best value of max_leaf_nodes (it will be either 5, 25, 50, 100, 250 or 500)\n",
        "best_tree_size = min(scores, key=scores.get)"
      ],
      "execution_count": 51,
      "outputs": []
    },
    {
      "cell_type": "code",
      "metadata": {
        "colab": {
          "base_uri": "https://localhost:8080/",
          "height": 46
        },
        "id": "K_QJAVZ9Ryb5",
        "outputId": "51be34e7-7c9c-46f8-8dcf-c2ba96b9b657"
      },
      "source": [
        "# Fill in argument to make optimal size and uncomment\n",
        "final_model = DecisionTreeRegressor(max_leaf_nodes=best_tree_size, random_state=1)\n",
        "\n",
        "# fit the final model and uncomment the next two lines\n",
        "final_model.fit(X, y)\n",
        "\n",
        "# Check your answer\n",
        "step_2.check()"
      ],
      "execution_count": 52,
      "outputs": [
        {
          "output_type": "display_data",
          "data": {
            "application/javascript": [
              "parent.postMessage({\"jupyterEvent\": \"custom.exercise_interaction\", \"data\": {\"outcomeType\": 1, \"valueTowardsCompletion\": 0.5, \"interactionType\": 1, \"questionType\": 2, \"questionId\": \"2_FitModelWithAllData\", \"learnToolsVersion\": \"0.3.4\", \"failureMessage\": \"\", \"exceptionClass\": \"\", \"trace\": \"\"}}, \"*\")"
            ],
            "text/plain": [
              "<IPython.core.display.Javascript object>"
            ]
          },
          "metadata": {}
        },
        {
          "output_type": "display_data",
          "data": {
            "text/markdown": "<span style=\"color:#33cc33\">Correct</span>",
            "text/plain": [
              "Correct"
            ]
          },
          "metadata": {}
        }
      ]
    },
    {
      "cell_type": "code",
      "metadata": {
        "colab": {
          "base_uri": "https://localhost:8080/"
        },
        "id": "n-2t64t4R2cN",
        "outputId": "c4ad321c-ce8c-448b-c1ae-00c5e58951ca"
      },
      "source": [
        "# Code you have previously used to load data\n",
        "import pandas as pd\n",
        "from sklearn.metrics import mean_absolute_error\n",
        "from sklearn.model_selection import train_test_split\n",
        "from sklearn.tree import DecisionTreeRegressor\n",
        "\n",
        "\n",
        "# Path of the file to read\n",
        "iowa_file_path = '/content/train.csv'\n",
        "\n",
        "home_data = pd.read_csv(iowa_file_path)\n",
        "# Create target object and call it y\n",
        "y = home_data.SalePrice\n",
        "# Create X\n",
        "features = ['LotArea', 'YearBuilt', '1stFlrSF', '2ndFlrSF', 'FullBath', 'BedroomAbvGr', 'TotRmsAbvGrd']\n",
        "X = home_data[features]\n",
        "\n",
        "# Split into validation and training data\n",
        "train_X, val_X, train_y, val_y = train_test_split(X, y, random_state=1)\n",
        "\n",
        "# Specify Model\n",
        "iowa_model = DecisionTreeRegressor(random_state=1)\n",
        "# Fit Model\n",
        "iowa_model.fit(train_X, train_y)\n",
        "\n",
        "# Make validation predictions and calculate mean absolute error\n",
        "val_predictions = iowa_model.predict(val_X)\n",
        "val_mae = mean_absolute_error(val_predictions, val_y)\n",
        "print(\"Validation MAE when not specifying max_leaf_nodes: {:,.0f}\".format(val_mae))\n",
        "\n",
        "# Using best value for max_leaf_nodes\n",
        "iowa_model = DecisionTreeRegressor(max_leaf_nodes=100, random_state=1)\n",
        "iowa_model.fit(train_X, train_y)\n",
        "val_predictions = iowa_model.predict(val_X)\n",
        "val_mae = mean_absolute_error(val_predictions, val_y)\n",
        "print(\"Validation MAE for best value of max_leaf_nodes: {:,.0f}\".format(val_mae))\n",
        "\n",
        "\n",
        "# Set up code checking\n",
        "from learntools.core import binder\n",
        "binder.bind(globals())\n",
        "from learntools.machine_learning.ex6 import *\n",
        "print(\"\\nSetup complete\")"
      ],
      "execution_count": 53,
      "outputs": [
        {
          "output_type": "stream",
          "name": "stderr",
          "text": [
            "WARNING:root:Ignoring repeated attempt to bind to globals\n"
          ]
        },
        {
          "output_type": "stream",
          "name": "stdout",
          "text": [
            "Validation MAE when not specifying max_leaf_nodes: 29,653\n",
            "Validation MAE for best value of max_leaf_nodes: 27,283\n",
            "\n",
            "Setup complete\n"
          ]
        }
      ]
    },
    {
      "cell_type": "code",
      "metadata": {
        "colab": {
          "base_uri": "https://localhost:8080/",
          "height": 64
        },
        "id": "MDPFWHyBR93k",
        "outputId": "4dafdaa6-21aa-4139-b486-a7e9f78dd112"
      },
      "source": [
        "from sklearn.ensemble import RandomForestRegressor\n",
        "\n",
        "# Define the model. Set random_state to 1\n",
        "rf_model = RandomForestRegressor()\n",
        "\n",
        "# fit your model\n",
        "rf_model.fit(train_X, train_y)\n",
        "\n",
        "# Calculate the mean absolute error of your Random Forest model on the validation data\n",
        "rf_val_predictions = rf_model.predict(val_X)\n",
        "rf_val_mae = mean_absolute_error(rf_val_predictions, val_y)\n",
        "\n",
        "print(\"Validation MAE for Random Forest Model: {}\".format(rf_val_mae))\n",
        "\n",
        "# Check your answer\n",
        "step_1.check()"
      ],
      "execution_count": 54,
      "outputs": [
        {
          "output_type": "stream",
          "name": "stdout",
          "text": [
            "Validation MAE for Random Forest Model: 22156.381435094587\n"
          ]
        },
        {
          "output_type": "display_data",
          "data": {
            "application/javascript": [
              "parent.postMessage({\"jupyterEvent\": \"custom.exercise_interaction\", \"data\": {\"outcomeType\": 1, \"valueTowardsCompletion\": 1.0, \"interactionType\": 1, \"questionType\": 2, \"questionId\": \"1_CheckRfScore\", \"learnToolsVersion\": \"0.3.4\", \"failureMessage\": \"\", \"exceptionClass\": \"\", \"trace\": \"\"}}, \"*\")"
            ],
            "text/plain": [
              "<IPython.core.display.Javascript object>"
            ]
          },
          "metadata": {}
        },
        {
          "output_type": "display_data",
          "data": {
            "text/markdown": "<span style=\"color:#33cc33\">Correct</span>",
            "text/plain": [
              "Correct"
            ]
          },
          "metadata": {}
        }
      ]
    }
  ]
}